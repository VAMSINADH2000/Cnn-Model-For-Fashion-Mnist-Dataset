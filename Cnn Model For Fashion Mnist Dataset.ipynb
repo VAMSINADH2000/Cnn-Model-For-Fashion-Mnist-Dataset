{
 "cells": [
  {
   "cell_type": "markdown",
   "metadata": {},
   "source": [
    "### Importing Libraries"
   ]
  },
  {
   "cell_type": "code",
   "execution_count": 43,
   "metadata": {},
   "outputs": [],
   "source": [
    "import numpy as np\n",
    "import pandas as pd\n",
    "import matplotlib.pyplot as plt\n",
    "import matplotlib as mpl"
   ]
  },
  {
   "cell_type": "code",
   "execution_count": 44,
   "metadata": {},
   "outputs": [],
   "source": [
    "import tensorflow as tf\n",
    "from tensorflow import keras"
   ]
  },
  {
   "cell_type": "markdown",
   "metadata": {},
   "source": [
    "### Importing Dataset"
   ]
  },
  {
   "cell_type": "code",
   "execution_count": 61,
   "metadata": {},
   "outputs": [],
   "source": [
    "from keras.datasets import fashion_mnist\n",
    "(X_train,y_train),(X_test,y_test) = fashion_mnist.load_data()"
   ]
  },
  {
   "cell_type": "code",
   "execution_count": 54,
   "metadata": {},
   "outputs": [],
   "source": [
    "class_names = ['T-shirt/top','Trouser','Pullover','Dress','Coat','Sandal','Shirt','Sneaker'\n",
    ",'Bag','Ankle boot']"
   ]
  },
  {
   "cell_type": "markdown",
   "metadata": {},
   "source": [
    "#### Data Reshaping"
   ]
  },
  {
   "cell_type": "code",
   "execution_count": 62,
   "metadata": {},
   "outputs": [],
   "source": [
    "X_train = X_train.reshape((60000, 28, 28, 1))\n",
    "X_test = X_test.reshape((10000, 28, 28, 1))"
   ]
  },
  {
   "cell_type": "markdown",
   "metadata": {},
   "source": [
    "#### Data normalazation\n",
    "devide each pixel value with 255"
   ]
  },
  {
   "cell_type": "code",
   "execution_count": 63,
   "metadata": {},
   "outputs": [],
   "source": [
    "X_train_n = X_train/255\n",
    "X_test_n = X_test/255"
   ]
  },
  {
   "cell_type": "code",
   "execution_count": 77,
   "metadata": {},
   "outputs": [
    {
     "data": {
      "text/plain": [
       "<matplotlib.image.AxesImage at 0x298f83f4d08>"
      ]
     },
     "execution_count": 77,
     "metadata": {},
     "output_type": "execute_result"
    },
    {
     "data": {
      "image/png": "[encoded data removed]",
      "text/plain": [
       "<Figure size 432x288 with 1 Axes>"
      ]
     },
     "metadata": {
      "needs_background": "light"
     },
     "output_type": "display_data"
    }
   ],
   "source": [
    "plt.imshow(X_test[0].reshape(28,28),cmap='gray')"
   ]
  },
  {
   "cell_type": "markdown",
   "metadata": {},
   "source": [
    "### Spliting Data into train,validation and test datasets\n",
    "Training Data--used for training the model\n",
    "Validation Data--used for tuning the hyperpaarameters and evaluate the models\n",
    "Test data--used to test the model after the traning and hyperparameter optimization"
   ]
  },
  {
   "cell_type": "code",
   "execution_count": 79,
   "metadata": {},
   "outputs": [],
   "source": [
    "X_valid, X_train = X_train_n[:5000], X_train_n[5000:]\n",
    "y_valid, y_trained = y_train[:5000], y_train[5000:]\n",
    "X_test = X_test_n"
   ]
  },
  {
   "cell_type": "markdown",
   "metadata": {},
   "source": [
    "### Model Architecture\n",
    "input layer (28x28x1)--> conv layer(26x26x32) padding=='valid'-->pooling layer(13x13x32)-->Flatten layer 5408 values --> Dense Layer1 300 neurons -->Dense Layer2 100 neurons --> Output Layer 10 neurons."
   ]
  },
  {
   "cell_type": "code",
   "execution_count": 80,
   "metadata": {},
   "outputs": [],
   "source": [
    "np.random.seed(42)\n",
    "tf.random.set_seed(42)"
   ]
  },
  {
   "cell_type": "code",
   "execution_count": 82,
   "metadata": {
    "scrolled": true
   },
   "outputs": [],
   "source": [
    "model = keras.models.Sequential()\n",
    "model.add(keras.layers.Conv2D(filters = 32,kernel_size = (3,3),strides = 1,padding = 'valid',activation='relu',input_shape=(28, 28, 1)))\n",
    "model.add((keras.layers.MaxPooling2D((2,2))))\n",
    "model.add(keras.layers.Flatten())\n",
    "model.add(keras.layers.Dense(300,activation='relu'))\n",
    "model.add(keras.layers.Dense(100,activation='relu'))\n",
    "model.add(keras.layers.Dense(10,activation='softmax'))\n"
   ]
  },
  {
   "cell_type": "code",
   "execution_count": 40,
   "metadata": {},
   "outputs": [
    {
     "name": "stdout",
     "output_type": "stream",
     "text": [
      "Model: \"sequential_8\"\n",
      "_________________________________________________________________\n",
      "Layer (type)                 Output Shape              Param #   \n",
      "=================================================================\n",
      "conv2d_8 (Conv2D)            (None, 26, 26, 32)        320       \n",
      "_________________________________________________________________\n",
      "max_pooling2d_2 (MaxPooling2 (None, 13, 13, 32)        0         \n",
      "_________________________________________________________________\n",
      "flatten_2 (Flatten)          (None, 5408)              0         \n",
      "_________________________________________________________________\n",
      "dense_6 (Dense)              (None, 300)               1622700   \n",
      "_________________________________________________________________\n",
      "dense_7 (Dense)              (None, 100)               30100     \n",
      "_________________________________________________________________\n",
      "dense_8 (Dense)              (None, 10)                1010      \n",
      "=================================================================\n",
      "Total params: 1,654,130\n",
      "Trainable params: 1,654,130\n",
      "Non-trainable params: 0\n",
      "_________________________________________________________________\n"
     ]
    }
   ],
   "source": [
    "model.summary()"
   ]
  },
  {
   "cell_type": "code",
   "execution_count": 83,
   "metadata": {},
   "outputs": [],
   "source": [
    "model.compile(loss='sparse_categorical_crossentropy',\n",
    "             optimizer='sgd',\n",
    "              metrics = ['accuracy']\n",
    "             )"
   ]
  },
  {
   "cell_type": "code",
   "execution_count": 131,
   "metadata": {},
   "outputs": [
    {
     "name": "stdout",
     "output_type": "stream",
     "text": [
      "Train on 55000 samples, validate on 5000 samples\n",
      "Epoch 1/50\n",
      "55000/55000 [==============================] - 70s 1ms/sample - loss: 0.2085 - accuracy: 0.9236 - val_loss: 0.2766 - val_accuracy: 0.9026\n",
      "Epoch 2/50\n",
      "55000/55000 [==============================] - 68s 1ms/sample - loss: 0.2047 - accuracy: 0.9257 - val_loss: 0.2672 - val_accuracy: 0.9044\n",
      "Epoch 3/50\n",
      "55000/55000 [==============================] - 71s 1ms/sample - loss: 0.2013 - accuracy: 0.9267 - val_loss: 0.2986 - val_accuracy: 0.8928\n",
      "Epoch 4/50\n",
      "55000/55000 [==============================] - 83s 2ms/sample - loss: 0.1974 - accuracy: 0.9291 - val_loss: 0.2681 - val_accuracy: 0.9042\n",
      "Epoch 5/50\n",
      "55000/55000 [==============================] - 67s 1ms/sample - loss: 0.1927 - accuracy: 0.9300 - val_loss: 0.2665 - val_accuracy: 0.9048\n",
      "Epoch 6/50\n",
      "55000/55000 [==============================] - 64s 1ms/sample - loss: 0.1894 - accuracy: 0.9316 - val_loss: 0.2599 - val_accuracy: 0.9076\n",
      "Epoch 7/50\n",
      "55000/55000 [==============================] - 64s 1ms/sample - loss: 0.1854 - accuracy: 0.9322 - val_loss: 0.2946 - val_accuracy: 0.8954\n",
      "Epoch 8/50\n",
      "55000/55000 [==============================] - 63s 1ms/sample - loss: 0.1814 - accuracy: 0.9350 - val_loss: 0.2534 - val_accuracy: 0.9100\n",
      "Epoch 9/50\n",
      "55000/55000 [==============================] - 63s 1ms/sample - loss: 0.1783 - accuracy: 0.9353 - val_loss: 0.2535 - val_accuracy: 0.9072\n",
      "Epoch 10/50\n",
      "55000/55000 [==============================] - 63s 1ms/sample - loss: 0.1749 - accuracy: 0.9365 - val_loss: 0.2636 - val_accuracy: 0.9032\n",
      "Epoch 11/50\n",
      "55000/55000 [==============================] - 64s 1ms/sample - loss: 0.1718 - accuracy: 0.9391 - val_loss: 0.2555 - val_accuracy: 0.9098\n",
      "Epoch 12/50\n",
      "55000/55000 [==============================] - 63s 1ms/sample - loss: 0.1680 - accuracy: 0.9396 - val_loss: 0.2651 - val_accuracy: 0.9046\n",
      "Epoch 13/50\n",
      "55000/55000 [==============================] - 64s 1ms/sample - loss: 0.1644 - accuracy: 0.9407 - val_loss: 0.2608 - val_accuracy: 0.9088\n",
      "Epoch 14/50\n",
      "55000/55000 [==============================] - 63s 1ms/sample - loss: 0.1611 - accuracy: 0.9425 - val_loss: 0.2886 - val_accuracy: 0.9000\n",
      "Epoch 15/50\n",
      "55000/55000 [==============================] - 63s 1ms/sample - loss: 0.1574 - accuracy: 0.9436 - val_loss: 0.2646 - val_accuracy: 0.9052\n",
      "Epoch 16/50\n",
      "55000/55000 [==============================] - 63s 1ms/sample - loss: 0.1544 - accuracy: 0.9449 - val_loss: 0.2584 - val_accuracy: 0.9088\n",
      "Epoch 17/50\n",
      "55000/55000 [==============================] - 63s 1ms/sample - loss: 0.1507 - accuracy: 0.9459 - val_loss: 0.2559 - val_accuracy: 0.9090\n",
      "Epoch 18/50\n",
      "55000/55000 [==============================] - 63s 1ms/sample - loss: 0.1474 - accuracy: 0.9492 - val_loss: 0.2524 - val_accuracy: 0.9108\n",
      "Epoch 19/50\n",
      "55000/55000 [==============================] - 63s 1ms/sample - loss: 0.1442 - accuracy: 0.9483 - val_loss: 0.2536 - val_accuracy: 0.9084\n",
      "Epoch 20/50\n",
      "55000/55000 [==============================] - 63s 1ms/sample - loss: 0.1397 - accuracy: 0.9513 - val_loss: 0.2610 - val_accuracy: 0.9078\n",
      "Epoch 21/50\n",
      "55000/55000 [==============================] - 63s 1ms/sample - loss: 0.1386 - accuracy: 0.9511 - val_loss: 0.2471 - val_accuracy: 0.9160\n",
      "Epoch 22/50\n",
      "55000/55000 [==============================] - 63s 1ms/sample - loss: 0.1342 - accuracy: 0.9525 - val_loss: 0.2514 - val_accuracy: 0.9154\n",
      "Epoch 23/50\n",
      "55000/55000 [==============================] - 63s 1ms/sample - loss: 0.1324 - accuracy: 0.9534 - val_loss: 0.2490 - val_accuracy: 0.9122\n",
      "Epoch 24/50\n",
      "55000/55000 [==============================] - 63s 1ms/sample - loss: 0.1283 - accuracy: 0.9553 - val_loss: 0.2644 - val_accuracy: 0.9044\n",
      "Epoch 25/50\n",
      "55000/55000 [==============================] - 62s 1ms/sample - loss: 0.1257 - accuracy: 0.9560 - val_loss: 0.2634 - val_accuracy: 0.9114\n",
      "Epoch 26/50\n",
      "55000/55000 [==============================] - 63s 1ms/sample - loss: 0.1209 - accuracy: 0.9582 - val_loss: 0.2880 - val_accuracy: 0.9046\n",
      "Epoch 27/50\n",
      "55000/55000 [==============================] - 63s 1ms/sample - loss: 0.1184 - accuracy: 0.9589 - val_loss: 0.2902 - val_accuracy: 0.9068\n",
      "Epoch 28/50\n",
      "55000/55000 [==============================] - 63s 1ms/sample - loss: 0.1156 - accuracy: 0.9598 - val_loss: 0.3288 - val_accuracy: 0.8950\n",
      "Epoch 29/50\n",
      "55000/55000 [==============================] - 63s 1ms/sample - loss: 0.1124 - accuracy: 0.9609 - val_loss: 0.2552 - val_accuracy: 0.9168\n",
      "Epoch 30/50\n",
      "55000/55000 [==============================] - 63s 1ms/sample - loss: 0.1097 - accuracy: 0.9623 - val_loss: 0.2628 - val_accuracy: 0.9146\n",
      "Epoch 31/50\n",
      "55000/55000 [==============================] - 64s 1ms/sample - loss: 0.1067 - accuracy: 0.9631 - val_loss: 0.2610 - val_accuracy: 0.9138\n",
      "Epoch 32/50\n",
      "55000/55000 [==============================] - 64s 1ms/sample - loss: 0.1052 - accuracy: 0.9636 - val_loss: 0.2598 - val_accuracy: 0.9142\n",
      "Epoch 33/50\n",
      "55000/55000 [==============================] - 63s 1ms/sample - loss: 0.1007 - accuracy: 0.9656 - val_loss: 0.2490 - val_accuracy: 0.9176\n",
      "Epoch 34/50\n",
      "55000/55000 [==============================] - 64s 1ms/sample - loss: 0.0981 - accuracy: 0.9672 - val_loss: 0.2613 - val_accuracy: 0.9134\n",
      "Epoch 35/50\n",
      "55000/55000 [==============================] - 63s 1ms/sample - loss: 0.0955 - accuracy: 0.9684 - val_loss: 0.2549 - val_accuracy: 0.9160\n",
      "Epoch 36/50\n",
      "55000/55000 [==============================] - 69s 1ms/sample - loss: 0.0924 - accuracy: 0.9684 - val_loss: 0.3207 - val_accuracy: 0.8994\n",
      "Epoch 37/50\n",
      "55000/55000 [==============================] - 69s 1ms/sample - loss: 0.0902 - accuracy: 0.9698 - val_loss: 0.2674 - val_accuracy: 0.9162\n",
      "Epoch 38/50\n",
      "55000/55000 [==============================] - 66s 1ms/sample - loss: 0.0877 - accuracy: 0.9706 - val_loss: 0.2652 - val_accuracy: 0.9136\n",
      "Epoch 39/50\n",
      "55000/55000 [==============================] - 65s 1ms/sample - loss: 0.0850 - accuracy: 0.9718 - val_loss: 0.2734 - val_accuracy: 0.9090\n",
      "Epoch 40/50\n",
      "55000/55000 [==============================] - 63s 1ms/sample - loss: 0.0831 - accuracy: 0.9725 - val_loss: 0.2914 - val_accuracy: 0.9090\n",
      "Epoch 41/50\n",
      "55000/55000 [==============================] - 64s 1ms/sample - loss: 0.0808 - accuracy: 0.9721 - val_loss: 0.3341 - val_accuracy: 0.9018\n",
      "Epoch 42/50\n",
      "55000/55000 [==============================] - 63s 1ms/sample - loss: 0.0770 - accuracy: 0.9744 - val_loss: 0.2773 - val_accuracy: 0.9116\n",
      "Epoch 43/50\n",
      "55000/55000 [==============================] - 69s 1ms/sample - loss: 0.0755 - accuracy: 0.9753 - val_loss: 0.2787 - val_accuracy: 0.9094\n",
      "Epoch 44/50\n",
      "55000/55000 [==============================] - 66s 1ms/sample - loss: 0.0728 - accuracy: 0.9766 - val_loss: 0.2676 - val_accuracy: 0.9176\n",
      "Epoch 45/50\n",
      "55000/55000 [==============================] - 63s 1ms/sample - loss: 0.0701 - accuracy: 0.9776 - val_loss: 0.3018 - val_accuracy: 0.9040\n",
      "Epoch 46/50\n",
      "55000/55000 [==============================] - 63s 1ms/sample - loss: 0.0684 - accuracy: 0.9775 - val_loss: 0.3020 - val_accuracy: 0.9114\n",
      "Epoch 47/50\n",
      "55000/55000 [==============================] - 64s 1ms/sample - loss: 0.0664 - accuracy: 0.9791 - val_loss: 0.2853 - val_accuracy: 0.9148\n",
      "Epoch 48/50\n",
      "55000/55000 [==============================] - 64s 1ms/sample - loss: 0.0634 - accuracy: 0.9796 - val_loss: 0.2891 - val_accuracy: 0.9100\n",
      "Epoch 49/50\n",
      "55000/55000 [==============================] - 63s 1ms/sample - loss: 0.0603 - accuracy: 0.9815 - val_loss: 0.2809 - val_accuracy: 0.9162\n",
      "Epoch 50/50\n",
      "55000/55000 [==============================] - 63s 1ms/sample - loss: 0.0589 - accuracy: 0.9817 - val_loss: 0.3323 - val_accuracy: 0.9004\n"
     ]
    }
   ],
   "source": [
    "\n",
    "\n",
    "\n",
    "model_history = model.fit(X_train, y_trained, epochs=50,batch_size= 64,\n",
    "                    validation_data=(X_valid, y_valid))"
   ]
  },
  {
   "cell_type": "code",
   "execution_count": 132,
   "metadata": {},
   "outputs": [
    {
     "data": {
      "image/png": "[encoded data removed]",
      "text/plain": [
       "<Figure size 576x360 with 1 Axes>"
      ]
     },
     "metadata": {
      "needs_background": "light"
     },
     "output_type": "display_data"
    }
   ],
   "source": [
    "import pandas as pd\n",
    "\n",
    "pd.DataFrame(model_history.history).plot(figsize=(8, 5))\n",
    "plt.grid(True)\n",
    "plt.gca().set_ylim(0, 1)\n",
    "plt.show()"
   ]
  },
  {
   "cell_type": "code",
   "execution_count": 133,
   "metadata": {},
   "outputs": [
    {
     "name": "stdout",
     "output_type": "stream",
     "text": [
      "10000/10000 [==============================] - 5s 457us/sample - loss: 0.3306 - accuracy: 0.9060\n"
     ]
    },
    {
     "data": {
      "text/plain": [
       "[0.3306213421106339, 0.906]"
      ]
     },
     "execution_count": 133,
     "metadata": {},
     "output_type": "execute_result"
    }
   ],
   "source": [
    "ev = model.evaluate(X_test_n, y_test)\n",
    "ev"
   ]
  },
  {
   "cell_type": "code",
   "execution_count": 120,
   "metadata": {},
   "outputs": [],
   "source": [
    "X_new = X_test[:5]\n",
    "y_pred = model.predict_classes(X_new)\n",
    "y_pred = [class_names[i] for i in y_pred]"
   ]
  },
  {
   "cell_type": "code",
   "execution_count": 121,
   "metadata": {},
   "outputs": [],
   "source": [
    "\n",
    "y_actual = [class_names[i] for i in y_test[:5]]"
   ]
  },
  {
   "cell_type": "code",
   "execution_count": 122,
   "metadata": {},
   "outputs": [
    {
     "data": {
      "text/plain": [
       "(['Ankle boot', 'Pullover', 'Trouser', 'Trouser', 'Shirt'],\n",
       " ['Ankle boot', 'Pullover', 'Trouser', 'Trouser', 'Shirt'])"
      ]
     },
     "execution_count": 122,
     "metadata": {},
     "output_type": "execute_result"
    }
   ],
   "source": [
    "y_actual,y_pred"
   ]
  },
  {
   "cell_type": "code",
   "execution_count": 129,
   "metadata": {},
   "outputs": [
    {
     "name": "stdout",
     "output_type": "stream",
     "text": [
      "AxesImage(54,36;334.8x217.44)\n"
     ]
    },
    {
     "data": {
      "image/png": "[encoded data removed]",
      "text/plain": [
       "<Figure size 432x288 with 1 Axes>"
      ]
     },
     "metadata": {
      "needs_background": "light"
     },
     "output_type": "display_data"
    }
   ],
   "source": [
    "print(plt.imshow(X_test[2].reshape((28,28))))"
   ]
  },
  {
   "cell_type": "code",
   "execution_count": 130,
   "metadata": {},
   "outputs": [
    {
     "data": {
      "text/plain": [
       "<function tensorflow.python.keras.backend.clear_session()>"
      ]
     },
     "execution_count": 130,
     "metadata": {},
     "output_type": "execute_result"
    }
   ],
   "source": [
    "keras.backend.clear_session"
   ]
  },
  {
   "cell_type": "code",
   "execution_count": null,
   "metadata": {},
   "outputs": [],
   "source": []
  },
  {
   "cell_type": "code",
   "execution_count": null,
   "metadata": {},
   "outputs": [],
   "source": []
  },
  {
   "cell_type": "code",
   "execution_count": null,
   "metadata": {},
   "outputs": [],
   "source": []
  },
  {
   "cell_type": "code",
   "execution_count": null,
   "metadata": {},
   "outputs": [],
   "source": []
  },
  {
   "cell_type": "code",
   "execution_count": null,
   "metadata": {},
   "outputs": [],
   "source": []
  }
 ],
 "metadata": {
  "kernelspec": {
   "display_name": "Python 3",
   "language": "python",
   "name": "python3"
  },
  "language_info": {
   "codemirror_mode": {
    "name": "ipython",
    "version": 3
   },
   "file_extension": ".py",
   "mimetype": "text/x-python",
   "name": "python",
   "nbconvert_exporter": "python",
   "pygments_lexer": "ipython3",
   "version": "3.7.4"
  }
 },
 "nbformat": 4,
 "nbformat_minor": 2
}
